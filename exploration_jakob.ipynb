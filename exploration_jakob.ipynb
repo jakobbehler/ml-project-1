{
 "cells": [
  {
   "cell_type": "markdown",
   "metadata": {},
   "source": [
    "### 1. Data overview\n",
    "\n",
    "- Inspect feature types (categorical, continuous, ordinal, binary)\n",
    "- Check target distribution (class balance)"
   ]
  },
  {
   "cell_type": "code",
   "execution_count": null,
   "metadata": {},
   "outputs": [],
   "source": [
    "import pandas as pd\n",
    "\n",
    "x_train = pd.read_csv('data/x_train.csv')\n",
    "\n",
    "drop_cols = ['_STATE', 'FMONTH', 'IDATE', 'IMONTH', 'IDAY', 'IYEAR', 'DISPCODE', 'SEQNO','_PSU']\n",
    "x_train.drop(drop_cols, axis = 1, inplace = True)\n",
    "x_train.head(20)\n"
   ]
  },
  {
   "cell_type": "code",
   "execution_count": null,
   "metadata": {},
   "outputs": [],
   "source": []
  },
  {
   "cell_type": "markdown",
   "metadata": {},
   "source": [
    "### 2. Data quality\n",
    "\n",
    "- Missing values (counts & % per column) --> how will we impute them? Drop, Mean or regressioN????\n",
    "- Invalid values (e.g., negatives where impossible, out-of-range categories)\n"
   ]
  },
  {
   "cell_type": "markdown",
   "metadata": {},
   "source": []
  },
  {
   "cell_type": "code",
   "execution_count": null,
   "metadata": {},
   "outputs": [],
   "source": [
    "\n",
    "## normalize continuous and one-hot categorial\n",
    "\n",
    "categorical_cols = []\n",
    "continuous_cols = \n",
    "\n",
    "\n",
    "scaler = MinMaxScaler()\n",
    "x_train[continuous_cols] = scaler.fit_transform(df[continuous_cols])\n",
    "x_train = pd.get_dummies(x_train, columns=categorical_cols)"
   ]
  }
 ],
 "metadata": {
  "kernelspec": {
   "display_name": "ada_exam_2024",
   "language": "python",
   "name": "python3"
  },
  "language_info": {
   "name": "python",
   "version": "3.10.13"
  }
 },
 "nbformat": 4,
 "nbformat_minor": 2
}
