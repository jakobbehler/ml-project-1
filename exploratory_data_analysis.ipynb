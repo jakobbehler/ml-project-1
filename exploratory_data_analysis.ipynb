{
 "cells": [
  {
   "cell_type": "markdown",
   "metadata": {},
   "source": [
    "### 1. Data overview\n",
    "\n",
    "-  Inspect feature types (categorical, continuous, ordinal, binary)\n",
    "- Check target distribution (class balance)\n",
    "\n",
    "### 2. Data quality\n",
    "\n",
    "- Missing values (counts & % per column) --> how will we impute them? Drop, Mean or regressioN????\n",
    "- Invalid values (e.g., negatives where impossible, out-of-range categories)\n",
    "\n",
    "### 3. Target variable\n",
    "\n",
    "- Class balance (is it imbalanced? → may need resampling/weights)\n",
    "- Compare descriptive stats of features by target class\n",
    "\n",
    "### 4. Feature distributions\n",
    "\n",
    "- Histograms / density plots for continuous features\n",
    "- Boxplots per class to spot differences & outliers\n",
    "- Bar plots for categorical/discrete features\n",
    "\n",
    "### 5. Relationships among features\n",
    "\n",
    "- correlation tables\n",
    "\n",
    "### 6. Data Preparation\n",
    "\n",
    "- Encode categorical features (one-hot, ordinal, or embeddings)\n",
    "- Scaling / Z-score of continuous\n",
    "- Decide how to handle missing data (imputation/drop)\n",
    "- Consider feature transformations (log, binning, etc.)\n"
   ]
  }
 ],
 "metadata": {
  "language_info": {
   "name": "python"
  }
 },
 "nbformat": 4,
 "nbformat_minor": 2
}
