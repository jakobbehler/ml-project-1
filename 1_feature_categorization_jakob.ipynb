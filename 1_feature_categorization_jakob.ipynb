{
 "cells": [
  {
   "cell_type": "markdown",
   "metadata": {},
   "source": [
    "### 1. Data overview\n",
    "\n",
    "- Inspect feature types (categorical, continuous, ordinal, binary)\n",
    "- Check target distribution (class balance)"
   ]
  },
  {
   "cell_type": "markdown",
   "metadata": {},
   "source": []
  },
  {
   "cell_type": "markdown",
   "metadata": {},
   "source": [
    "## 0. Data Loading"
   ]
  },
  {
   "cell_type": "code",
   "execution_count": 1,
   "metadata": {},
   "outputs": [],
   "source": [
    "import numpy as np\n",
    "from helper_functions.A_loading_helpers import load_csv_data\n",
    "import os\n",
    "import helper_functions.C_preprocessing_helpers as ph"
   ]
  },
  {
   "cell_type": "code",
   "execution_count": null,
   "metadata": {},
   "outputs": [],
   "source": [
    "data_path = 'data'\n",
    "x_train, x_test, y_train, train_ids, test_ids =  load_csv_data(data_path, sub_sample=False)"
   ]
  },
  {
   "cell_type": "code",
   "execution_count": 8,
   "metadata": {},
   "outputs": [
    {
     "data": {
      "text/plain": [
       "(328135, 321)"
      ]
     },
     "execution_count": 8,
     "metadata": {},
     "output_type": "execute_result"
    }
   ],
   "source": [
    "x_train.shape\n"
   ]
  },
  {
   "cell_type": "markdown",
   "metadata": {},
   "source": []
  },
  {
   "cell_type": "markdown",
   "metadata": {},
   "source": [
    "# 1. Categorizing Features - continuous or categorical"
   ]
  },
  {
   "cell_type": "code",
   "execution_count": 5,
   "metadata": {},
   "outputs": [
    {
     "name": "stdout",
     "output_type": "stream",
     "text": [
      "[26, 28, 29, 30, 78, 79, 80, 81, 82, 83, 84, 85, 86, 87, 90, 91, 93, 94, 95, 102, 106, 111, 112, 113, 114, 144, 146, 148, 149, 150, 151, 196, 207, 208, 209, 210, 211, 212, 213, 214, 263, 265, 288, 289, 294, 295]\n"
     ]
    }
   ],
   "source": [
    "classes_path = 'data/feature_properties/feature_classes.json'\n",
    "feature_names_path = 'data/feature_properties/feature_names.csv'\n",
    "\n",
    "feature_classes_dictionary = ph.build_feature_dictionary(classes_path, feature_names_path)\n",
    "\n",
    "print(feature_classes_dictionary['continuous_but_null_also_a_number']['indices'])"
   ]
  },
  {
   "cell_type": "markdown",
   "metadata": {},
   "source": [
    "\n",
    "- here arrays of the feature names are produced based on data type (continuous, cat)\n",
    "- as well as the indices (which columns in the numpy xrain array they correspond to)\n",
    "\n",
    "---\n",
    "\n",
    "- For ordinal: usually its like 1,2,3,4 and then 7 or 9 for 'dont know' or 'refused'. We replace this value with 'null'. The feature _AGEYR65 doesnt have a nice gap.\n",
    "- there are variables llike _FRUITEX that tell you wether the fruit responses of that person should be excluded. \n",
    "\n",
    "---"
   ]
  },
  {
   "cell_type": "markdown",
   "metadata": {},
   "source": [
    "## 1.1 cleaning up\n",
    "1) for the class'ordinal' figure out where the 'gap' is and replac the highest value with Null  (1,2,3,9 --> 9 is Null because it corresponds to \"no answer\")\n",
    "2) For the class continuous_but_null_also_a_number the highest number is sometimes \"no answer\" sometimes something else. Check that and replace with \"null\"\n",
    "3) Write one-hot encoder function\n",
    "4) Write \n"
   ]
  },
  {
   "cell_type": "markdown",
   "metadata": {},
   "source": [
    "### 2. Data quality\n",
    "\n",
    "- Missing values (counts & % per column) --> how will we impute them? Drop, Mean or regressioN????\n"
   ]
  },
  {
   "cell_type": "markdown",
   "metadata": {},
   "source": []
  }
 ],
 "metadata": {
  "kernelspec": {
   "display_name": "ada_exam_2024",
   "language": "python",
   "name": "python3"
  },
  "language_info": {
   "codemirror_mode": {
    "name": "ipython",
    "version": 3
   },
   "file_extension": ".py",
   "mimetype": "text/x-python",
   "name": "python",
   "nbconvert_exporter": "python",
   "pygments_lexer": "ipython3",
   "version": "3.10.13"
  }
 },
 "nbformat": 4,
 "nbformat_minor": 2
}
